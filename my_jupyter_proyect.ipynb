{
 "cells": [
  {
   "cell_type": "markdown",
   "metadata": {},
   "source": [
    "# My Jupyterlite"
   ]
  },
  {
   "cell_type": "markdown",
   "metadata": {},
   "source": [
    "## Introduction"
   ]
  },
  {
   "cell_type": "markdown",
   "metadata": {},
   "source": [
    "As part of this course, throughout this juupyter notebook is where I will be able to demonstrate my knowledge acquired throughout the course."
   ]
  },
  {
   "cell_type": "markdown",
   "metadata": {},
   "source": [
    "## Programming Languages ​​Used in Data Sciences"
   ]
  },
  {
   "cell_type": "markdown",
   "metadata": {},
   "source": [
    "The most used languages ​​in data science are the following:\n",
    "\n",
    "- **Python:** One of the most popular languages ​​due to its simplicity and a wide range of specific libraries for data science, such as NumPy, Pandas, scikit-learn, TensorFlow, Keras, among others.\n",
    "\n",
    "- **SQL:** Structured query language used to manage and manipulate relational databases.\n",
    "\n",
    "- **Java:** Although less common, it is used in some big data applications and frameworks such as Hadoop.\n",
    "\n",
    "- **C/C++:** Mainly used in cases where algorithm performance needs to be optimized, although it is not so common in data analysis.\n",
    "\n",
    "- **R:** Used for the field of statistical analysis and data visualization."
   ]
  },
  {
   "cell_type": "markdown",
   "metadata": {},
   "source": [
    "## Libraries for Data Science"
   ]
  },
  {
   "cell_type": "markdown",
   "metadata": {},
   "source": [
    "In data science, there are several specialized libraries that facilitate data analysis, manipulation, and visualization, as well as the construction of machine learning models."
   ]
  },
  {
   "cell_type": "markdown",
   "metadata": {},
   "source": [
    "### Data Manipulation and Analysis"
   ]
  },
  {
   "cell_type": "markdown",
   "metadata": {},
   "source": [
    "- **Pandas (Python):** Essential library for the manipulation and analysis of tabular data. It provides data structures such as DataFrame and tools for cleaning, filtering, and transforming data.\n",
    "\n",
    "- **NumPy (Python):** Library for working with multidimensional arrays and performing high-performance mathematical operations, such as linear algebra and basic statistics.\n",
    "\n",
    "- **Dask (Python):** Extends the functionality of Pandas and NumPy for large data sets, allowing parallel processing.\n",
    "\n",
    "- **dplyr (R):** Package for efficient data manipulation in R, with functions similar to Pandas, such as filtering, grouping, and aggregating data.\n",
    "\n",
    "- **data.table (R):** High-speed package for data manipulation, especially useful in large volumes."
   ]
  },
  {
   "cell_type": "markdown",
   "metadata": {},
   "source": [
    "### Data Visualization"
   ]
  },
  {
   "cell_type": "markdown",
   "metadata": {},
   "source": [
    "- **Matplotlib (Python):** Standard library for creating simple graphs such as lines, bars, scatter, etc.\n",
    "\n",
    "- **Seaborn (Python):** Extends Matplotlib to generate more aesthetic and detailed statistical graphs, facilitating the creation of heatmaps, box plots, etc.\n",
    "\n",
    "- **Plotly (Python and R):** Tool for creating interactive 2D and 3D graphs, useful for web applications and dashboards.\n",
    "\n",
    "- **ggplot2 (R):** One of the most powerful libraries for visualization in R, based on the grammar of graphics. It allows you to create complex and highly customizable graphs.\n",
    "\n",
    "- **Bokeh (Python):** Tool for generating interactive and embeddable graphs in web applications."
   ]
  },
  {
   "cell_type": "markdown",
   "metadata": {},
   "source": [
    "### Machine Learning and AI"
   ]
  },
  {
   "cell_type": "markdown",
   "metadata": {},
   "source": [
    "- **scikit-learn (Python):** One of the most popular libraries for machine learning in Python. It offers algorithms for classification, regression, clustering and dimensionality reduction.\n",
    "\n",
    "- **TensorFlow (Python):** Machine learning and deep learning framework developed by Google. It is widely used to build neural networks and deep learning models.\n",
    "\n",
    "- **Keras (Python):** High-level API that runs on top of TensorFlow or Theano, designed to facilitate the creation of neural networks.\n",
    "\n",
    "- **PyTorch (Python):** Developed by Facebook, it is another deep learning framework, popular for its flexibility and ability to do research.\n",
    "\n",
    "- **XGBoost (Python, R):** Fast and efficient implementation of gradient boosting, an algorithm widely used in machine learning competitions and for structured data.\n",
    "\n",
    "- **lightgbm (Python, R):** Alternative to XGBoost, designed to be even more efficient and faster in handling large datasets.\n",
    "\n",
    "- **Caret (R):** Package that simplifies the process of building and evaluating machine learning models in R, integrating various techniques and algorithms."
   ]
  },
  {
   "cell_type": "markdown",
   "metadata": {},
   "source": [
    "### Big Data"
   ]
  },
  {
   "cell_type": "markdown",
   "metadata": {},
   "source": [
    "- **Apache Spark (Python, Scala, R, Java):** Framework for processing large volumes of data in parallel, ideal for machine learning and large-scale data analysis.\n",
    "\n",
    "- **Hadoop (Java, Python):** Distributed system for storing and processing large data sets."
   ]
  },
  {
   "cell_type": "markdown",
   "metadata": {},
   "source": [
    "### Natural Language Processing (NLP)"
   ]
  },
  {
   "cell_type": "markdown",
   "metadata": {},
   "source": [
    "- **spaCy (Python):** Natural language processing (NLP) library that allows tasks such as grammatical analysis, tokenization, entity recognition, etc.\n",
    "\n",
    "- **NLTK (Python):** Provides basic tools for working with text, such as lexical and syntactic analysis.\n",
    "\n",
    "- **Gensim (Python):** Tool for topic modeling and analysis of unstructured text using algorithms such as Word2Vec and LDA."
   ]
  },
  {
   "cell_type": "markdown",
   "metadata": {},
   "source": [
    "### Optimization and Evolutionary Algorithms"
   ]
  },
  {
   "cell_type": "markdown",
   "metadata": {},
   "source": [
    "- **SciPy (Python):** Offers advanced functions for optimization, integration, interpolation, and differential equations, among other areas of applied mathematics.\n",
    "\n",
    "- **DEAP (Python):** Library for evolutionary algorithms and optimization, such as genetic and differential evolution algorithms."
   ]
  },
  {
   "cell_type": "markdown",
   "metadata": {},
   "source": [
    "### Neural Networks and Deep Learning"
   ]
  },
  {
   "cell_type": "markdown",
   "metadata": {},
   "source": [
    "- **Theano (Python):** Previously widely used for deep learning, it has been replaced by TensorFlow and PyTorch, but is still used in certain scientific applications.\n",
    "\n",
    "- **MXNet (Python, Scala, R):** Efficient deep learning framework, used by Amazon in its AWS SageMaker machine learning engine."
   ]
  },
  {
   "cell_type": "markdown",
   "metadata": {},
   "source": [
    "## Data Science Tools"
   ]
  },
  {
   "cell_type": "markdown",
   "metadata": {},
   "source": [
    "\n",
    "| **Function**                    | **Tool**                   | **Description**                                                                            |\n",
    "|----------------------------------|----------------------------|--------------------------------------------------------------------------------------------|\n",
    "| **Data Manipulation**            | Pandas                     | Library for tabular data manipulation in Python.                                            |\n",
    "|                                  | NumPy                      | Supports arrays and high-performance mathematical operations in Python.                     |\n",
    "|                                  | dplyr                      | Data manipulation package in R.                                                            |\n",
    "|                                  | data.table                 | High-speed data manipulation package in R.                                                 |\n",
    "| **Data Visualization**           | Matplotlib                 | Library for simple charts in Python.                                                       |\n",
    "|                                  | Seaborn                    | Extends Matplotlib for more advanced statistical plots in Python.                           |\n",
    "|                                  | ggplot2                    | Powerful data visualization package in R.                                                  |\n",
    "|                                  | Plotly                     | Interactive charting library for Python and R.                                              |\n",
    "|                                  | Bokeh                      | Tool for creating interactive plots in web applications.                                   |\n",
    "| **Machine Learning**             | scikit-learn               | Library for machine learning models in Python.                                              |\n",
    "|                                  | TensorFlow                 | Framework for machine learning and deep learning, particularly for neural networks.         |\n",
    "|                                  | Keras                      | High-level API for building neural networks, runs on TensorFlow.                            |\n",
    "|                                  | PyTorch                    | Flexible deep learning framework developed by Facebook.                                     |\n",
    "|                                  | XGBoost                    | Efficient implementation of gradient boosting.                                              |\n",
    "|                                  | lightgbm                   | Gradient boosting library optimized for large datasets.                                     |\n",
    "|                                  | Caret                      | Simplifies machine learning model building process in R.                                    |\n",
    "| **Big Data**                     | Apache Spark               | Framework for parallel processing of large-scale data.                                      |\n",
    "|                                  | Hadoop                     | Distributed system for storing and processing big data.                                     |\n",
    "| **Natural Language Processing (NLP)** | spaCy              | Library for natural language processing in Python.                                          |\n",
    "|                                  | NLTK                       | Basic tools for working with text in Python.                                                |\n",
    "|                                  | Gensim                     | Tool for topic modeling and text analysis in unstructured data.                             |\n",
    "| **Optimization & Evolutionary Algorithms** | SciPy           | Advanced functions for optimization and applied mathematics.                               |\n",
    "|                                  | DEAP                       | Library for evolutionary algorithms and optimization.                                       |\n",
    "| **Neural Networks & Deep Learning** | Theano             | Framework for deep learning (less commonly used now).                                       |\n",
    "|                                  | MXNet                      | Efficient deep learning framework used in AWS SageMaker.                                    |\n"
   ]
  },
  {
   "cell_type": "markdown",
   "metadata": {},
   "source": [
    "## Arithmetic Operations"
   ]
  },
  {
   "cell_type": "markdown",
   "metadata": {},
   "source": [
    "Arithmetic expressions are fundamental in programming for performing mathematical operations. Below are some examples of common arithmetic expressions:\n",
    "\n",
    "### Basic Arithmetic Operations\n",
    "\n",
    "- **Addition (+)**: Adds two numbers.\n",
    "  - Example: `5 + 3` results in `8`.\n",
    "\n",
    "- **Subtraction (-)**: Subtracts the second number from the first.\n",
    "  - Example: `10 - 4` results in `6`.\n",
    "\n",
    "- **Multiplication (*)**: Multiplies two numbers.\n",
    "  - Example: `6 * 7` results in `42`.\n",
    "\n",
    "- **Division (/)**: Divides the first number by the second.\n",
    "  - Example: `15 / 3` results in `5.0`.\n",
    "\n",
    "- **Exponentiation (**)**: Raises the first number to the power of the second.\n",
    "  - Example: `2 ** 3` results in `8`.\n",
    "\n",
    "### Modulus and Floor Division\n",
    "\n",
    "- **Modulus (%)**: Returns the remainder of the division.\n",
    "  - Example: `10 % 3` results in `1`.\n",
    "\n",
    "- **Floor Division (//)**: Divides the first number by the second and rounds down to the nearest integer.\n",
    "  - Example: `10 // 3` results in `3`.\n",
    "\n",
    "### Combining Arithmetic Operations\n",
    "\n",
    "Arithmetic expressions can combine multiple operations using parentheses `()` to define precedence.\n",
    "\n",
    "- **Example with Parentheses**:\n",
    "  - `(5 + 3) * 2` results in `16`.\n",
    "\n",
    "In this case, the expression inside the parentheses is evaluated first, then multiplied by 2.\n",
    "\n",
    "### Order of Operations (PEMDAS)\n",
    "\n",
    "When no parentheses are used, the order of operations follows **PEMDAS** (Parentheses, Exponents, Multiplication and Division, Addition and Subtraction).\n",
    "\n",
    "- **Example following PEMDAS**:\n",
    "  - `3 + 5 * 2 ** 2 - 8 / 4` results in `16`.\n",
    "\n",
    "Steps:\n",
    "1. **Exponentiation**: `2 ** 2 = 4`\n",
    "2. **Multiplication**: `5 * 4 = 20`\n",
    "3. **Division**: `8 / 4 = 2`\n",
    "4. **Addition and Subtraction**: `3 + 20 - 2 = 21`\n",
    "\n",
    "Understanding the order of operations ensures accurate results when combining multiple arithmetic expressions."
   ]
  },
  {
   "cell_type": "markdown",
   "metadata": {},
   "source": [
    "## Operations Exercises"
   ]
  },
  {
   "cell_type": "markdown",
   "metadata": {},
   "source": [
    "### Addition"
   ]
  },
  {
   "cell_type": "code",
   "execution_count": null,
   "metadata": {},
   "outputs": [],
   "source": [
    "print(\"Enter the first value\")\n",
    "number_1 = input()\n",
    "\n",
    "print(\"Enter the second value\")\n",
    "number_2 = input()\n",
    "\n",
    "addition = number_1 + number_2\n",
    "print(f'Result: {addition}')"
   ]
  },
  {
   "cell_type": "code",
   "execution_count": null,
   "metadata": {},
   "outputs": [],
   "source": []
  }
 ],
 "metadata": {
  "kernelspec": {
   "display_name": "Python 3",
   "language": "python",
   "name": "python3"
  },
  "language_info": {
   "name": "python",
   "version": "3.11.4"
  }
 },
 "nbformat": 4,
 "nbformat_minor": 2
}
